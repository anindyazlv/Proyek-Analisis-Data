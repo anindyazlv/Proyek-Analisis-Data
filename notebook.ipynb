{
  "cells": [
    {
      "cell_type": "markdown",
      "metadata": {
        "id": "H9wADwK78DCz"
      },
      "source": [
        "# Proyek Analisis Data: Bike Sharing Dataset\n",
        "- **Nama:** Anindya Zulva Larasati\n",
        "- **Email:** anindyazulva09@gmail.com\n",
        "- **ID Dicoding:** anindyazlv"
      ]
    },
    {
      "cell_type": "markdown",
      "metadata": {
        "id": "eE0raob58DC0"
      },
      "source": [
        "## Menentukan Pertanyaan Bisnis"
      ]
    },
    {
      "cell_type": "markdown",
      "metadata": {
        "id": "GmQeQ5YF8DC0"
      },
      "source": [
        "- Bagaimana hubungan antara jumlah penyewa sepeda dengan suatu musim pada tahun 2011 dan 2012?\n",
        "- Bagaimana distribusi antara penyewa sepeda terdaftar (registered) dan penyewa casual dalam penyewaan sepeda pada tahun 2011 dan 2012?"
      ]
    },
    {
      "cell_type": "markdown",
      "metadata": {
        "id": "H-z4QGlO8DC1"
      },
      "source": [
        "## Import Semua Packages/Library yang Digunakan"
      ]
    },
    {
      "cell_type": "code",
      "execution_count": 1,
      "metadata": {
        "id": "FVYwaObI8DC1"
      },
      "outputs": [],
      "source": [
        "import pandas as pd\n",
        "import matplotlib.pyplot as plt\n",
        "import seaborn as sns"
      ]
    },
    {
      "cell_type": "markdown",
      "metadata": {
        "id": "h_Sh51Xy8DC1"
      },
      "source": [
        "## Data Wrangling"
      ]
    },
    {
      "cell_type": "markdown",
      "metadata": {
        "id": "YIRL1NTi_Dkt"
      },
      "source": [
        "Data Wrangling terbagi menjadi tiga tahap, yaitu: Gathering Data, Assessing Data, dan Cleaning Data"
      ]
    },
    {
      "cell_type": "markdown",
      "metadata": {
        "id": "sXU2GBYu8DC1"
      },
      "source": [
        "### Gathering Data"
      ]
    },
    {
      "cell_type": "markdown",
      "metadata": {
        "id": "3PPWcP4HjzrV"
      },
      "source": [
        "Kode di bawah ini akan membaca data yang ada pada file `day.csv` dan menyimpannya pada variabel `day_df`. Selanjutnya, akan menampilkan lima data pertama yang tersimpan pada variabel `day_df`"
      ]
    },
    {
      "cell_type": "code",
      "execution_count": 2,
      "metadata": {
        "colab": {
          "base_uri": "https://localhost:8080/",
          "height": 293
        },
        "id": "zjCBk1BI8DC1",
        "outputId": "132a5d29-3504-42be-b022-9c7934b4dd9b"
      },
      "outputs": [
        {
          "data": {
            "text/html": [
              "<div>\n",
              "<style scoped>\n",
              "    .dataframe tbody tr th:only-of-type {\n",
              "        vertical-align: middle;\n",
              "    }\n",
              "\n",
              "    .dataframe tbody tr th {\n",
              "        vertical-align: top;\n",
              "    }\n",
              "\n",
              "    .dataframe thead th {\n",
              "        text-align: right;\n",
              "    }\n",
              "</style>\n",
              "<table border=\"1\" class=\"dataframe\">\n",
              "  <thead>\n",
              "    <tr style=\"text-align: right;\">\n",
              "      <th></th>\n",
              "      <th>instant</th>\n",
              "      <th>dteday</th>\n",
              "      <th>season</th>\n",
              "      <th>yr</th>\n",
              "      <th>mnth</th>\n",
              "      <th>holiday</th>\n",
              "      <th>weekday</th>\n",
              "      <th>workingday</th>\n",
              "      <th>weathersit</th>\n",
              "      <th>temp</th>\n",
              "      <th>atemp</th>\n",
              "      <th>hum</th>\n",
              "      <th>windspeed</th>\n",
              "      <th>casual</th>\n",
              "      <th>registered</th>\n",
              "      <th>cnt</th>\n",
              "    </tr>\n",
              "  </thead>\n",
              "  <tbody>\n",
              "    <tr>\n",
              "      <th>0</th>\n",
              "      <td>1</td>\n",
              "      <td>2011-01-01</td>\n",
              "      <td>1</td>\n",
              "      <td>0</td>\n",
              "      <td>1</td>\n",
              "      <td>0</td>\n",
              "      <td>6</td>\n",
              "      <td>0</td>\n",
              "      <td>2</td>\n",
              "      <td>0.344167</td>\n",
              "      <td>0.363625</td>\n",
              "      <td>0.805833</td>\n",
              "      <td>0.160446</td>\n",
              "      <td>331</td>\n",
              "      <td>654</td>\n",
              "      <td>985</td>\n",
              "    </tr>\n",
              "    <tr>\n",
              "      <th>1</th>\n",
              "      <td>2</td>\n",
              "      <td>2011-01-02</td>\n",
              "      <td>1</td>\n",
              "      <td>0</td>\n",
              "      <td>1</td>\n",
              "      <td>0</td>\n",
              "      <td>0</td>\n",
              "      <td>0</td>\n",
              "      <td>2</td>\n",
              "      <td>0.363478</td>\n",
              "      <td>0.353739</td>\n",
              "      <td>0.696087</td>\n",
              "      <td>0.248539</td>\n",
              "      <td>131</td>\n",
              "      <td>670</td>\n",
              "      <td>801</td>\n",
              "    </tr>\n",
              "    <tr>\n",
              "      <th>2</th>\n",
              "      <td>3</td>\n",
              "      <td>2011-01-03</td>\n",
              "      <td>1</td>\n",
              "      <td>0</td>\n",
              "      <td>1</td>\n",
              "      <td>0</td>\n",
              "      <td>1</td>\n",
              "      <td>1</td>\n",
              "      <td>1</td>\n",
              "      <td>0.196364</td>\n",
              "      <td>0.189405</td>\n",
              "      <td>0.437273</td>\n",
              "      <td>0.248309</td>\n",
              "      <td>120</td>\n",
              "      <td>1229</td>\n",
              "      <td>1349</td>\n",
              "    </tr>\n",
              "    <tr>\n",
              "      <th>3</th>\n",
              "      <td>4</td>\n",
              "      <td>2011-01-04</td>\n",
              "      <td>1</td>\n",
              "      <td>0</td>\n",
              "      <td>1</td>\n",
              "      <td>0</td>\n",
              "      <td>2</td>\n",
              "      <td>1</td>\n",
              "      <td>1</td>\n",
              "      <td>0.200000</td>\n",
              "      <td>0.212122</td>\n",
              "      <td>0.590435</td>\n",
              "      <td>0.160296</td>\n",
              "      <td>108</td>\n",
              "      <td>1454</td>\n",
              "      <td>1562</td>\n",
              "    </tr>\n",
              "    <tr>\n",
              "      <th>4</th>\n",
              "      <td>5</td>\n",
              "      <td>2011-01-05</td>\n",
              "      <td>1</td>\n",
              "      <td>0</td>\n",
              "      <td>1</td>\n",
              "      <td>0</td>\n",
              "      <td>3</td>\n",
              "      <td>1</td>\n",
              "      <td>1</td>\n",
              "      <td>0.226957</td>\n",
              "      <td>0.229270</td>\n",
              "      <td>0.436957</td>\n",
              "      <td>0.186900</td>\n",
              "      <td>82</td>\n",
              "      <td>1518</td>\n",
              "      <td>1600</td>\n",
              "    </tr>\n",
              "  </tbody>\n",
              "</table>\n",
              "</div>"
            ],
            "text/plain": [
              "   instant      dteday  season  yr  mnth  holiday  weekday  workingday  \\\n",
              "0        1  2011-01-01       1   0     1        0        6           0   \n",
              "1        2  2011-01-02       1   0     1        0        0           0   \n",
              "2        3  2011-01-03       1   0     1        0        1           1   \n",
              "3        4  2011-01-04       1   0     1        0        2           1   \n",
              "4        5  2011-01-05       1   0     1        0        3           1   \n",
              "\n",
              "   weathersit      temp     atemp       hum  windspeed  casual  registered  \\\n",
              "0           2  0.344167  0.363625  0.805833   0.160446     331         654   \n",
              "1           2  0.363478  0.353739  0.696087   0.248539     131         670   \n",
              "2           1  0.196364  0.189405  0.437273   0.248309     120        1229   \n",
              "3           1  0.200000  0.212122  0.590435   0.160296     108        1454   \n",
              "4           1  0.226957  0.229270  0.436957   0.186900      82        1518   \n",
              "\n",
              "    cnt  \n",
              "0   985  \n",
              "1   801  \n",
              "2  1349  \n",
              "3  1562  \n",
              "4  1600  "
            ]
          },
          "execution_count": 2,
          "metadata": {},
          "output_type": "execute_result"
        }
      ],
      "source": [
        "day_df = pd.read_csv(\"day.csv\")\n",
        "day_df.head()"
      ]
    },
    {
      "cell_type": "markdown",
      "metadata": {
        "id": "FHSiqaZp8DC1"
      },
      "source": [
        "### Assessing Data"
      ]
    },
    {
      "cell_type": "markdown",
      "metadata": {
        "id": "m3thC7v6vCvD"
      },
      "source": [
        "Pada tahap assessing data akan dilakukan penilaian data untuk mengetahui berbagai permasalahan yang terdapat dalam data."
      ]
    },
    {
      "cell_type": "markdown",
      "metadata": {
        "id": "CpGXb_R9va3r"
      },
      "source": [
        "Pada tahap ini dimulai dengan memeriksa tipe data dari tiap kolom yang terdapat dalam `day_df`"
      ]
    },
    {
      "cell_type": "code",
      "execution_count": 3,
      "metadata": {
        "colab": {
          "base_uri": "https://localhost:8080/"
        },
        "id": "ax-3tEjc9Cj1",
        "outputId": "ec363595-47ff-4115-b465-56de9a3ad555"
      },
      "outputs": [
        {
          "name": "stdout",
          "output_type": "stream",
          "text": [
            "<class 'pandas.core.frame.DataFrame'>\n",
            "RangeIndex: 731 entries, 0 to 730\n",
            "Data columns (total 16 columns):\n",
            " #   Column      Non-Null Count  Dtype  \n",
            "---  ------      --------------  -----  \n",
            " 0   instant     731 non-null    int64  \n",
            " 1   dteday      731 non-null    object \n",
            " 2   season      731 non-null    int64  \n",
            " 3   yr          731 non-null    int64  \n",
            " 4   mnth        731 non-null    int64  \n",
            " 5   holiday     731 non-null    int64  \n",
            " 6   weekday     731 non-null    int64  \n",
            " 7   workingday  731 non-null    int64  \n",
            " 8   weathersit  731 non-null    int64  \n",
            " 9   temp        731 non-null    float64\n",
            " 10  atemp       731 non-null    float64\n",
            " 11  hum         731 non-null    float64\n",
            " 12  windspeed   731 non-null    float64\n",
            " 13  casual      731 non-null    int64  \n",
            " 14  registered  731 non-null    int64  \n",
            " 15  cnt         731 non-null    int64  \n",
            "dtypes: float64(4), int64(11), object(1)\n",
            "memory usage: 91.5+ KB\n"
          ]
        }
      ],
      "source": [
        "day_df.info()"
      ]
    },
    {
      "cell_type": "markdown",
      "metadata": {
        "id": "yQjg8IKqxKDg"
      },
      "source": [
        "Dapat diketahui jumlah data pada `day_df` lengkap yang mengindikasikan bahwa tidak terdapat missing value. Namun, terdapat kesalahan tipe data pada kolom `dteday` yang seharusnya direpresentasikan dengan tipe data `datetime`. Kesalahan tipe data juga terjadi pada kolom `season` yang seharusnya direpresentasikan dengan tipe data `object`. Kesalahan ini nantinya akan dibersihkan pada tahap cleaning data.\n"
      ]
    },
    {
      "cell_type": "markdown",
      "metadata": {
        "id": "bQaFdAgT-MgB"
      },
      "source": [
        "Setelah itu, perlu memeriksa duplikasi data pada `day_df`"
      ]
    },
    {
      "cell_type": "code",
      "execution_count": 4,
      "metadata": {
        "colab": {
          "base_uri": "https://localhost:8080/",
          "height": 337
        },
        "id": "H_Ni-c6LzCLJ",
        "outputId": "20cbc160-717e-4f7f-8b04-ae7760fe6965"
      },
      "outputs": [
        {
          "name": "stdout",
          "output_type": "stream",
          "text": [
            "Jumlah duplikasi:  0\n"
          ]
        },
        {
          "data": {
            "text/html": [
              "<div>\n",
              "<style scoped>\n",
              "    .dataframe tbody tr th:only-of-type {\n",
              "        vertical-align: middle;\n",
              "    }\n",
              "\n",
              "    .dataframe tbody tr th {\n",
              "        vertical-align: top;\n",
              "    }\n",
              "\n",
              "    .dataframe thead th {\n",
              "        text-align: right;\n",
              "    }\n",
              "</style>\n",
              "<table border=\"1\" class=\"dataframe\">\n",
              "  <thead>\n",
              "    <tr style=\"text-align: right;\">\n",
              "      <th></th>\n",
              "      <th>instant</th>\n",
              "      <th>season</th>\n",
              "      <th>yr</th>\n",
              "      <th>mnth</th>\n",
              "      <th>holiday</th>\n",
              "      <th>weekday</th>\n",
              "      <th>workingday</th>\n",
              "      <th>weathersit</th>\n",
              "      <th>temp</th>\n",
              "      <th>atemp</th>\n",
              "      <th>hum</th>\n",
              "      <th>windspeed</th>\n",
              "      <th>casual</th>\n",
              "      <th>registered</th>\n",
              "      <th>cnt</th>\n",
              "    </tr>\n",
              "  </thead>\n",
              "  <tbody>\n",
              "    <tr>\n",
              "      <th>count</th>\n",
              "      <td>731.000000</td>\n",
              "      <td>731.000000</td>\n",
              "      <td>731.000000</td>\n",
              "      <td>731.000000</td>\n",
              "      <td>731.000000</td>\n",
              "      <td>731.000000</td>\n",
              "      <td>731.000000</td>\n",
              "      <td>731.000000</td>\n",
              "      <td>731.000000</td>\n",
              "      <td>731.000000</td>\n",
              "      <td>731.000000</td>\n",
              "      <td>731.000000</td>\n",
              "      <td>731.000000</td>\n",
              "      <td>731.000000</td>\n",
              "      <td>731.000000</td>\n",
              "    </tr>\n",
              "    <tr>\n",
              "      <th>mean</th>\n",
              "      <td>366.000000</td>\n",
              "      <td>2.496580</td>\n",
              "      <td>0.500684</td>\n",
              "      <td>6.519836</td>\n",
              "      <td>0.028728</td>\n",
              "      <td>2.997264</td>\n",
              "      <td>0.683995</td>\n",
              "      <td>1.395349</td>\n",
              "      <td>0.495385</td>\n",
              "      <td>0.474354</td>\n",
              "      <td>0.627894</td>\n",
              "      <td>0.190486</td>\n",
              "      <td>848.176471</td>\n",
              "      <td>3656.172367</td>\n",
              "      <td>4504.348837</td>\n",
              "    </tr>\n",
              "    <tr>\n",
              "      <th>std</th>\n",
              "      <td>211.165812</td>\n",
              "      <td>1.110807</td>\n",
              "      <td>0.500342</td>\n",
              "      <td>3.451913</td>\n",
              "      <td>0.167155</td>\n",
              "      <td>2.004787</td>\n",
              "      <td>0.465233</td>\n",
              "      <td>0.544894</td>\n",
              "      <td>0.183051</td>\n",
              "      <td>0.162961</td>\n",
              "      <td>0.142429</td>\n",
              "      <td>0.077498</td>\n",
              "      <td>686.622488</td>\n",
              "      <td>1560.256377</td>\n",
              "      <td>1937.211452</td>\n",
              "    </tr>\n",
              "    <tr>\n",
              "      <th>min</th>\n",
              "      <td>1.000000</td>\n",
              "      <td>1.000000</td>\n",
              "      <td>0.000000</td>\n",
              "      <td>1.000000</td>\n",
              "      <td>0.000000</td>\n",
              "      <td>0.000000</td>\n",
              "      <td>0.000000</td>\n",
              "      <td>1.000000</td>\n",
              "      <td>0.059130</td>\n",
              "      <td>0.079070</td>\n",
              "      <td>0.000000</td>\n",
              "      <td>0.022392</td>\n",
              "      <td>2.000000</td>\n",
              "      <td>20.000000</td>\n",
              "      <td>22.000000</td>\n",
              "    </tr>\n",
              "    <tr>\n",
              "      <th>25%</th>\n",
              "      <td>183.500000</td>\n",
              "      <td>2.000000</td>\n",
              "      <td>0.000000</td>\n",
              "      <td>4.000000</td>\n",
              "      <td>0.000000</td>\n",
              "      <td>1.000000</td>\n",
              "      <td>0.000000</td>\n",
              "      <td>1.000000</td>\n",
              "      <td>0.337083</td>\n",
              "      <td>0.337842</td>\n",
              "      <td>0.520000</td>\n",
              "      <td>0.134950</td>\n",
              "      <td>315.500000</td>\n",
              "      <td>2497.000000</td>\n",
              "      <td>3152.000000</td>\n",
              "    </tr>\n",
              "    <tr>\n",
              "      <th>50%</th>\n",
              "      <td>366.000000</td>\n",
              "      <td>3.000000</td>\n",
              "      <td>1.000000</td>\n",
              "      <td>7.000000</td>\n",
              "      <td>0.000000</td>\n",
              "      <td>3.000000</td>\n",
              "      <td>1.000000</td>\n",
              "      <td>1.000000</td>\n",
              "      <td>0.498333</td>\n",
              "      <td>0.486733</td>\n",
              "      <td>0.626667</td>\n",
              "      <td>0.180975</td>\n",
              "      <td>713.000000</td>\n",
              "      <td>3662.000000</td>\n",
              "      <td>4548.000000</td>\n",
              "    </tr>\n",
              "    <tr>\n",
              "      <th>75%</th>\n",
              "      <td>548.500000</td>\n",
              "      <td>3.000000</td>\n",
              "      <td>1.000000</td>\n",
              "      <td>10.000000</td>\n",
              "      <td>0.000000</td>\n",
              "      <td>5.000000</td>\n",
              "      <td>1.000000</td>\n",
              "      <td>2.000000</td>\n",
              "      <td>0.655417</td>\n",
              "      <td>0.608602</td>\n",
              "      <td>0.730209</td>\n",
              "      <td>0.233214</td>\n",
              "      <td>1096.000000</td>\n",
              "      <td>4776.500000</td>\n",
              "      <td>5956.000000</td>\n",
              "    </tr>\n",
              "    <tr>\n",
              "      <th>max</th>\n",
              "      <td>731.000000</td>\n",
              "      <td>4.000000</td>\n",
              "      <td>1.000000</td>\n",
              "      <td>12.000000</td>\n",
              "      <td>1.000000</td>\n",
              "      <td>6.000000</td>\n",
              "      <td>1.000000</td>\n",
              "      <td>3.000000</td>\n",
              "      <td>0.861667</td>\n",
              "      <td>0.840896</td>\n",
              "      <td>0.972500</td>\n",
              "      <td>0.507463</td>\n",
              "      <td>3410.000000</td>\n",
              "      <td>6946.000000</td>\n",
              "      <td>8714.000000</td>\n",
              "    </tr>\n",
              "  </tbody>\n",
              "</table>\n",
              "</div>"
            ],
            "text/plain": [
              "          instant      season          yr        mnth     holiday     weekday  \\\n",
              "count  731.000000  731.000000  731.000000  731.000000  731.000000  731.000000   \n",
              "mean   366.000000    2.496580    0.500684    6.519836    0.028728    2.997264   \n",
              "std    211.165812    1.110807    0.500342    3.451913    0.167155    2.004787   \n",
              "min      1.000000    1.000000    0.000000    1.000000    0.000000    0.000000   \n",
              "25%    183.500000    2.000000    0.000000    4.000000    0.000000    1.000000   \n",
              "50%    366.000000    3.000000    1.000000    7.000000    0.000000    3.000000   \n",
              "75%    548.500000    3.000000    1.000000   10.000000    0.000000    5.000000   \n",
              "max    731.000000    4.000000    1.000000   12.000000    1.000000    6.000000   \n",
              "\n",
              "       workingday  weathersit        temp       atemp         hum   windspeed  \\\n",
              "count  731.000000  731.000000  731.000000  731.000000  731.000000  731.000000   \n",
              "mean     0.683995    1.395349    0.495385    0.474354    0.627894    0.190486   \n",
              "std      0.465233    0.544894    0.183051    0.162961    0.142429    0.077498   \n",
              "min      0.000000    1.000000    0.059130    0.079070    0.000000    0.022392   \n",
              "25%      0.000000    1.000000    0.337083    0.337842    0.520000    0.134950   \n",
              "50%      1.000000    1.000000    0.498333    0.486733    0.626667    0.180975   \n",
              "75%      1.000000    2.000000    0.655417    0.608602    0.730209    0.233214   \n",
              "max      1.000000    3.000000    0.861667    0.840896    0.972500    0.507463   \n",
              "\n",
              "            casual   registered          cnt  \n",
              "count   731.000000   731.000000   731.000000  \n",
              "mean    848.176471  3656.172367  4504.348837  \n",
              "std     686.622488  1560.256377  1937.211452  \n",
              "min       2.000000    20.000000    22.000000  \n",
              "25%     315.500000  2497.000000  3152.000000  \n",
              "50%     713.000000  3662.000000  4548.000000  \n",
              "75%    1096.000000  4776.500000  5956.000000  \n",
              "max    3410.000000  6946.000000  8714.000000  "
            ]
          },
          "execution_count": 4,
          "metadata": {},
          "output_type": "execute_result"
        }
      ],
      "source": [
        "print(\"Jumlah duplikasi: \",day_df.duplicated().sum())\n",
        "day_df.describe()"
      ]
    },
    {
      "cell_type": "markdown",
      "metadata": {
        "id": "Eh84zkTpzbq0"
      },
      "source": [
        "Setelah dilakukan pemeriksaan duplikasi data, dapat diketahui bahwa tidak terdapat duplikasi data pada `day_df`"
      ]
    },
    {
      "cell_type": "markdown",
      "metadata": {
        "id": "flELUngB9aSY"
      },
      "source": [
        "Kemudian dilakukan pemeriksaan parameter statistik pada kolom numerik dalam `day_df`"
      ]
    },
    {
      "cell_type": "code",
      "execution_count": 5,
      "metadata": {
        "colab": {
          "base_uri": "https://localhost:8080/",
          "height": 320
        },
        "id": "qbHtYlU24GvP",
        "outputId": "32fa1eed-ad5e-4786-9d5c-cd8e91e8df91"
      },
      "outputs": [
        {
          "data": {
            "text/html": [
              "<div>\n",
              "<style scoped>\n",
              "    .dataframe tbody tr th:only-of-type {\n",
              "        vertical-align: middle;\n",
              "    }\n",
              "\n",
              "    .dataframe tbody tr th {\n",
              "        vertical-align: top;\n",
              "    }\n",
              "\n",
              "    .dataframe thead th {\n",
              "        text-align: right;\n",
              "    }\n",
              "</style>\n",
              "<table border=\"1\" class=\"dataframe\">\n",
              "  <thead>\n",
              "    <tr style=\"text-align: right;\">\n",
              "      <th></th>\n",
              "      <th>instant</th>\n",
              "      <th>season</th>\n",
              "      <th>yr</th>\n",
              "      <th>mnth</th>\n",
              "      <th>holiday</th>\n",
              "      <th>weekday</th>\n",
              "      <th>workingday</th>\n",
              "      <th>weathersit</th>\n",
              "      <th>temp</th>\n",
              "      <th>atemp</th>\n",
              "      <th>hum</th>\n",
              "      <th>windspeed</th>\n",
              "      <th>casual</th>\n",
              "      <th>registered</th>\n",
              "      <th>cnt</th>\n",
              "    </tr>\n",
              "  </thead>\n",
              "  <tbody>\n",
              "    <tr>\n",
              "      <th>count</th>\n",
              "      <td>731.000000</td>\n",
              "      <td>731.000000</td>\n",
              "      <td>731.000000</td>\n",
              "      <td>731.000000</td>\n",
              "      <td>731.000000</td>\n",
              "      <td>731.000000</td>\n",
              "      <td>731.000000</td>\n",
              "      <td>731.000000</td>\n",
              "      <td>731.000000</td>\n",
              "      <td>731.000000</td>\n",
              "      <td>731.000000</td>\n",
              "      <td>731.000000</td>\n",
              "      <td>731.000000</td>\n",
              "      <td>731.000000</td>\n",
              "      <td>731.000000</td>\n",
              "    </tr>\n",
              "    <tr>\n",
              "      <th>mean</th>\n",
              "      <td>366.000000</td>\n",
              "      <td>2.496580</td>\n",
              "      <td>0.500684</td>\n",
              "      <td>6.519836</td>\n",
              "      <td>0.028728</td>\n",
              "      <td>2.997264</td>\n",
              "      <td>0.683995</td>\n",
              "      <td>1.395349</td>\n",
              "      <td>0.495385</td>\n",
              "      <td>0.474354</td>\n",
              "      <td>0.627894</td>\n",
              "      <td>0.190486</td>\n",
              "      <td>848.176471</td>\n",
              "      <td>3656.172367</td>\n",
              "      <td>4504.348837</td>\n",
              "    </tr>\n",
              "    <tr>\n",
              "      <th>std</th>\n",
              "      <td>211.165812</td>\n",
              "      <td>1.110807</td>\n",
              "      <td>0.500342</td>\n",
              "      <td>3.451913</td>\n",
              "      <td>0.167155</td>\n",
              "      <td>2.004787</td>\n",
              "      <td>0.465233</td>\n",
              "      <td>0.544894</td>\n",
              "      <td>0.183051</td>\n",
              "      <td>0.162961</td>\n",
              "      <td>0.142429</td>\n",
              "      <td>0.077498</td>\n",
              "      <td>686.622488</td>\n",
              "      <td>1560.256377</td>\n",
              "      <td>1937.211452</td>\n",
              "    </tr>\n",
              "    <tr>\n",
              "      <th>min</th>\n",
              "      <td>1.000000</td>\n",
              "      <td>1.000000</td>\n",
              "      <td>0.000000</td>\n",
              "      <td>1.000000</td>\n",
              "      <td>0.000000</td>\n",
              "      <td>0.000000</td>\n",
              "      <td>0.000000</td>\n",
              "      <td>1.000000</td>\n",
              "      <td>0.059130</td>\n",
              "      <td>0.079070</td>\n",
              "      <td>0.000000</td>\n",
              "      <td>0.022392</td>\n",
              "      <td>2.000000</td>\n",
              "      <td>20.000000</td>\n",
              "      <td>22.000000</td>\n",
              "    </tr>\n",
              "    <tr>\n",
              "      <th>25%</th>\n",
              "      <td>183.500000</td>\n",
              "      <td>2.000000</td>\n",
              "      <td>0.000000</td>\n",
              "      <td>4.000000</td>\n",
              "      <td>0.000000</td>\n",
              "      <td>1.000000</td>\n",
              "      <td>0.000000</td>\n",
              "      <td>1.000000</td>\n",
              "      <td>0.337083</td>\n",
              "      <td>0.337842</td>\n",
              "      <td>0.520000</td>\n",
              "      <td>0.134950</td>\n",
              "      <td>315.500000</td>\n",
              "      <td>2497.000000</td>\n",
              "      <td>3152.000000</td>\n",
              "    </tr>\n",
              "    <tr>\n",
              "      <th>50%</th>\n",
              "      <td>366.000000</td>\n",
              "      <td>3.000000</td>\n",
              "      <td>1.000000</td>\n",
              "      <td>7.000000</td>\n",
              "      <td>0.000000</td>\n",
              "      <td>3.000000</td>\n",
              "      <td>1.000000</td>\n",
              "      <td>1.000000</td>\n",
              "      <td>0.498333</td>\n",
              "      <td>0.486733</td>\n",
              "      <td>0.626667</td>\n",
              "      <td>0.180975</td>\n",
              "      <td>713.000000</td>\n",
              "      <td>3662.000000</td>\n",
              "      <td>4548.000000</td>\n",
              "    </tr>\n",
              "    <tr>\n",
              "      <th>75%</th>\n",
              "      <td>548.500000</td>\n",
              "      <td>3.000000</td>\n",
              "      <td>1.000000</td>\n",
              "      <td>10.000000</td>\n",
              "      <td>0.000000</td>\n",
              "      <td>5.000000</td>\n",
              "      <td>1.000000</td>\n",
              "      <td>2.000000</td>\n",
              "      <td>0.655417</td>\n",
              "      <td>0.608602</td>\n",
              "      <td>0.730209</td>\n",
              "      <td>0.233214</td>\n",
              "      <td>1096.000000</td>\n",
              "      <td>4776.500000</td>\n",
              "      <td>5956.000000</td>\n",
              "    </tr>\n",
              "    <tr>\n",
              "      <th>max</th>\n",
              "      <td>731.000000</td>\n",
              "      <td>4.000000</td>\n",
              "      <td>1.000000</td>\n",
              "      <td>12.000000</td>\n",
              "      <td>1.000000</td>\n",
              "      <td>6.000000</td>\n",
              "      <td>1.000000</td>\n",
              "      <td>3.000000</td>\n",
              "      <td>0.861667</td>\n",
              "      <td>0.840896</td>\n",
              "      <td>0.972500</td>\n",
              "      <td>0.507463</td>\n",
              "      <td>3410.000000</td>\n",
              "      <td>6946.000000</td>\n",
              "      <td>8714.000000</td>\n",
              "    </tr>\n",
              "  </tbody>\n",
              "</table>\n",
              "</div>"
            ],
            "text/plain": [
              "          instant      season          yr        mnth     holiday     weekday  \\\n",
              "count  731.000000  731.000000  731.000000  731.000000  731.000000  731.000000   \n",
              "mean   366.000000    2.496580    0.500684    6.519836    0.028728    2.997264   \n",
              "std    211.165812    1.110807    0.500342    3.451913    0.167155    2.004787   \n",
              "min      1.000000    1.000000    0.000000    1.000000    0.000000    0.000000   \n",
              "25%    183.500000    2.000000    0.000000    4.000000    0.000000    1.000000   \n",
              "50%    366.000000    3.000000    1.000000    7.000000    0.000000    3.000000   \n",
              "75%    548.500000    3.000000    1.000000   10.000000    0.000000    5.000000   \n",
              "max    731.000000    4.000000    1.000000   12.000000    1.000000    6.000000   \n",
              "\n",
              "       workingday  weathersit        temp       atemp         hum   windspeed  \\\n",
              "count  731.000000  731.000000  731.000000  731.000000  731.000000  731.000000   \n",
              "mean     0.683995    1.395349    0.495385    0.474354    0.627894    0.190486   \n",
              "std      0.465233    0.544894    0.183051    0.162961    0.142429    0.077498   \n",
              "min      0.000000    1.000000    0.059130    0.079070    0.000000    0.022392   \n",
              "25%      0.000000    1.000000    0.337083    0.337842    0.520000    0.134950   \n",
              "50%      1.000000    1.000000    0.498333    0.486733    0.626667    0.180975   \n",
              "75%      1.000000    2.000000    0.655417    0.608602    0.730209    0.233214   \n",
              "max      1.000000    3.000000    0.861667    0.840896    0.972500    0.507463   \n",
              "\n",
              "            casual   registered          cnt  \n",
              "count   731.000000   731.000000   731.000000  \n",
              "mean    848.176471  3656.172367  4504.348837  \n",
              "std     686.622488  1560.256377  1937.211452  \n",
              "min       2.000000    20.000000    22.000000  \n",
              "25%     315.500000  2497.000000  3152.000000  \n",
              "50%     713.000000  3662.000000  4548.000000  \n",
              "75%    1096.000000  4776.500000  5956.000000  \n",
              "max    3410.000000  6946.000000  8714.000000  "
            ]
          },
          "execution_count": 5,
          "metadata": {},
          "output_type": "execute_result"
        }
      ],
      "source": [
        "day_df.describe()"
      ]
    },
    {
      "cell_type": "markdown",
      "metadata": {
        "id": "VgUxh3Ap9nlQ"
      },
      "source": [
        "Setelah dilakukan pemeriksaan parameter statistik, terdapat keanehan pada kolom `season` yang berisi data kategoris yang mewakili setiap musim dan pada kolom `yr` yang juga berisi data kategoris yang mewakili tahun 2011 dan 2012. Kesalahan ini nantinya akan dibersihkan pada tahap cleaning data."
      ]
    },
    {
      "cell_type": "markdown",
      "metadata": {
        "id": "EhN5R4hr8DC1"
      },
      "source": [
        "### Cleaning Data"
      ]
    },
    {
      "cell_type": "markdown",
      "metadata": {
        "id": "aPvLvjVu_T0C"
      },
      "source": [
        "Saat tahap Assessing Data, ditemukan permasalahan yang ada pada data `day_df` yaitu kesalahan tipe data pada kolom `dteday`, kesalahan tipe data pada kolom `season`, nilai yang kurang tepat pada kolom `season` dan kolom `yr` yang diwakili oleh data kategoris. Untuk itu, proses cleaning data ini akan membersihkan kesalahan tersebut."
      ]
    },
    {
      "cell_type": "markdown",
      "metadata": {
        "id": "dTLjn--c_yet"
      },
      "source": [
        "Akan dilakukan cleaning data pada `day_df` yaitu mengganti tipe data pada kolom `dteday` dengan tipe data yang sesuai yaitu `datetime`"
      ]
    },
    {
      "cell_type": "code",
      "execution_count": 6,
      "metadata": {
        "colab": {
          "base_uri": "https://localhost:8080/"
        },
        "id": "jVnYpprE9Evz",
        "outputId": "dfb793a3-09c7-4607-e63c-47d8431a5d25"
      },
      "outputs": [
        {
          "name": "stdout",
          "output_type": "stream",
          "text": [
            "<class 'pandas.core.frame.DataFrame'>\n",
            "RangeIndex: 731 entries, 0 to 730\n",
            "Data columns (total 16 columns):\n",
            " #   Column      Non-Null Count  Dtype         \n",
            "---  ------      --------------  -----         \n",
            " 0   instant     731 non-null    int64         \n",
            " 1   dteday      731 non-null    datetime64[ns]\n",
            " 2   season      731 non-null    int64         \n",
            " 3   yr          731 non-null    int64         \n",
            " 4   mnth        731 non-null    int64         \n",
            " 5   holiday     731 non-null    int64         \n",
            " 6   weekday     731 non-null    int64         \n",
            " 7   workingday  731 non-null    int64         \n",
            " 8   weathersit  731 non-null    int64         \n",
            " 9   temp        731 non-null    float64       \n",
            " 10  atemp       731 non-null    float64       \n",
            " 11  hum         731 non-null    float64       \n",
            " 12  windspeed   731 non-null    float64       \n",
            " 13  casual      731 non-null    int64         \n",
            " 14  registered  731 non-null    int64         \n",
            " 15  cnt         731 non-null    int64         \n",
            "dtypes: datetime64[ns](1), float64(4), int64(11)\n",
            "memory usage: 91.5 KB\n"
          ]
        }
      ],
      "source": [
        "day_columns = [\"dteday\"]\n",
        "\n",
        "for column in day_columns:\n",
        "  day_df[column] = pd.to_datetime(day_df[column])\n",
        "\n",
        "day_df.info()"
      ]
    },
    {
      "cell_type": "markdown",
      "metadata": {
        "id": "YVnmiG08Adzx"
      },
      "source": [
        "Kode di atas berhasil mengubah tipe data kolom `dteday` menjadi bertipe data `datetime`"
      ]
    },
    {
      "cell_type": "markdown",
      "metadata": {
        "id": "tjgMqr5WjoPv"
      },
      "source": [
        "Lalu, perlu dilakukan penggantian nilai dan tipe data pada kolom `season`."
      ]
    },
    {
      "cell_type": "code",
      "execution_count": 7,
      "metadata": {
        "colab": {
          "base_uri": "https://localhost:8080/"
        },
        "id": "KRxG7XW-jwdo",
        "outputId": "fc84d0a6-7388-46dd-f6ca-1b9a80042d85"
      },
      "outputs": [
        {
          "name": "stdout",
          "output_type": "stream",
          "text": [
            "<class 'pandas.core.frame.DataFrame'>\n",
            "RangeIndex: 731 entries, 0 to 730\n",
            "Data columns (total 16 columns):\n",
            " #   Column      Non-Null Count  Dtype         \n",
            "---  ------      --------------  -----         \n",
            " 0   instant     731 non-null    int64         \n",
            " 1   dteday      731 non-null    datetime64[ns]\n",
            " 2   season      731 non-null    object        \n",
            " 3   yr          731 non-null    int64         \n",
            " 4   mnth        731 non-null    int64         \n",
            " 5   holiday     731 non-null    int64         \n",
            " 6   weekday     731 non-null    int64         \n",
            " 7   workingday  731 non-null    int64         \n",
            " 8   weathersit  731 non-null    int64         \n",
            " 9   temp        731 non-null    float64       \n",
            " 10  atemp       731 non-null    float64       \n",
            " 11  hum         731 non-null    float64       \n",
            " 12  windspeed   731 non-null    float64       \n",
            " 13  casual      731 non-null    int64         \n",
            " 14  registered  731 non-null    int64         \n",
            " 15  cnt         731 non-null    int64         \n",
            "dtypes: datetime64[ns](1), float64(4), int64(10), object(1)\n",
            "memory usage: 91.5+ KB\n"
          ]
        }
      ],
      "source": [
        "day_df['season'] = day_df['season'].replace({1: 'Spring', 2: 'Summer', 3: 'Fall', 4: 'Winter'})\n",
        "\n",
        "day_df.info()"
      ]
    },
    {
      "cell_type": "markdown",
      "metadata": {
        "id": "Cl4uMkgRmfJE"
      },
      "source": [
        "Kode di atas berhasil mengubah tipe data dan nilai pada kolom `season`."
      ]
    },
    {
      "cell_type": "markdown",
      "metadata": {
        "id": "Q3ePxy7Umooq"
      },
      "source": [
        "Selanjutnya, perlu dilakukan penggantian nilai pada kolom `yr`."
      ]
    },
    {
      "cell_type": "code",
      "execution_count": 8,
      "metadata": {
        "colab": {
          "base_uri": "https://localhost:8080/",
          "height": 320
        },
        "id": "jNpJhxXIkDDe",
        "outputId": "bcc64edc-0a7e-44a8-c2dd-664bf27af1eb"
      },
      "outputs": [
        {
          "data": {
            "text/html": [
              "<div>\n",
              "<style scoped>\n",
              "    .dataframe tbody tr th:only-of-type {\n",
              "        vertical-align: middle;\n",
              "    }\n",
              "\n",
              "    .dataframe tbody tr th {\n",
              "        vertical-align: top;\n",
              "    }\n",
              "\n",
              "    .dataframe thead th {\n",
              "        text-align: right;\n",
              "    }\n",
              "</style>\n",
              "<table border=\"1\" class=\"dataframe\">\n",
              "  <thead>\n",
              "    <tr style=\"text-align: right;\">\n",
              "      <th></th>\n",
              "      <th>instant</th>\n",
              "      <th>dteday</th>\n",
              "      <th>yr</th>\n",
              "      <th>mnth</th>\n",
              "      <th>holiday</th>\n",
              "      <th>weekday</th>\n",
              "      <th>workingday</th>\n",
              "      <th>weathersit</th>\n",
              "      <th>temp</th>\n",
              "      <th>atemp</th>\n",
              "      <th>hum</th>\n",
              "      <th>windspeed</th>\n",
              "      <th>casual</th>\n",
              "      <th>registered</th>\n",
              "      <th>cnt</th>\n",
              "    </tr>\n",
              "  </thead>\n",
              "  <tbody>\n",
              "    <tr>\n",
              "      <th>count</th>\n",
              "      <td>731.000000</td>\n",
              "      <td>731</td>\n",
              "      <td>731.000000</td>\n",
              "      <td>731.000000</td>\n",
              "      <td>731.000000</td>\n",
              "      <td>731.000000</td>\n",
              "      <td>731.000000</td>\n",
              "      <td>731.000000</td>\n",
              "      <td>731.000000</td>\n",
              "      <td>731.000000</td>\n",
              "      <td>731.000000</td>\n",
              "      <td>731.000000</td>\n",
              "      <td>731.000000</td>\n",
              "      <td>731.000000</td>\n",
              "      <td>731.000000</td>\n",
              "    </tr>\n",
              "    <tr>\n",
              "      <th>mean</th>\n",
              "      <td>366.000000</td>\n",
              "      <td>2012-01-01 00:00:00</td>\n",
              "      <td>2011.500684</td>\n",
              "      <td>6.519836</td>\n",
              "      <td>0.028728</td>\n",
              "      <td>2.997264</td>\n",
              "      <td>0.683995</td>\n",
              "      <td>1.395349</td>\n",
              "      <td>0.495385</td>\n",
              "      <td>0.474354</td>\n",
              "      <td>0.627894</td>\n",
              "      <td>0.190486</td>\n",
              "      <td>848.176471</td>\n",
              "      <td>3656.172367</td>\n",
              "      <td>4504.348837</td>\n",
              "    </tr>\n",
              "    <tr>\n",
              "      <th>min</th>\n",
              "      <td>1.000000</td>\n",
              "      <td>2011-01-01 00:00:00</td>\n",
              "      <td>2011.000000</td>\n",
              "      <td>1.000000</td>\n",
              "      <td>0.000000</td>\n",
              "      <td>0.000000</td>\n",
              "      <td>0.000000</td>\n",
              "      <td>1.000000</td>\n",
              "      <td>0.059130</td>\n",
              "      <td>0.079070</td>\n",
              "      <td>0.000000</td>\n",
              "      <td>0.022392</td>\n",
              "      <td>2.000000</td>\n",
              "      <td>20.000000</td>\n",
              "      <td>22.000000</td>\n",
              "    </tr>\n",
              "    <tr>\n",
              "      <th>25%</th>\n",
              "      <td>183.500000</td>\n",
              "      <td>2011-07-02 12:00:00</td>\n",
              "      <td>2011.000000</td>\n",
              "      <td>4.000000</td>\n",
              "      <td>0.000000</td>\n",
              "      <td>1.000000</td>\n",
              "      <td>0.000000</td>\n",
              "      <td>1.000000</td>\n",
              "      <td>0.337083</td>\n",
              "      <td>0.337842</td>\n",
              "      <td>0.520000</td>\n",
              "      <td>0.134950</td>\n",
              "      <td>315.500000</td>\n",
              "      <td>2497.000000</td>\n",
              "      <td>3152.000000</td>\n",
              "    </tr>\n",
              "    <tr>\n",
              "      <th>50%</th>\n",
              "      <td>366.000000</td>\n",
              "      <td>2012-01-01 00:00:00</td>\n",
              "      <td>2012.000000</td>\n",
              "      <td>7.000000</td>\n",
              "      <td>0.000000</td>\n",
              "      <td>3.000000</td>\n",
              "      <td>1.000000</td>\n",
              "      <td>1.000000</td>\n",
              "      <td>0.498333</td>\n",
              "      <td>0.486733</td>\n",
              "      <td>0.626667</td>\n",
              "      <td>0.180975</td>\n",
              "      <td>713.000000</td>\n",
              "      <td>3662.000000</td>\n",
              "      <td>4548.000000</td>\n",
              "    </tr>\n",
              "    <tr>\n",
              "      <th>75%</th>\n",
              "      <td>548.500000</td>\n",
              "      <td>2012-07-01 12:00:00</td>\n",
              "      <td>2012.000000</td>\n",
              "      <td>10.000000</td>\n",
              "      <td>0.000000</td>\n",
              "      <td>5.000000</td>\n",
              "      <td>1.000000</td>\n",
              "      <td>2.000000</td>\n",
              "      <td>0.655417</td>\n",
              "      <td>0.608602</td>\n",
              "      <td>0.730209</td>\n",
              "      <td>0.233214</td>\n",
              "      <td>1096.000000</td>\n",
              "      <td>4776.500000</td>\n",
              "      <td>5956.000000</td>\n",
              "    </tr>\n",
              "    <tr>\n",
              "      <th>max</th>\n",
              "      <td>731.000000</td>\n",
              "      <td>2012-12-31 00:00:00</td>\n",
              "      <td>2012.000000</td>\n",
              "      <td>12.000000</td>\n",
              "      <td>1.000000</td>\n",
              "      <td>6.000000</td>\n",
              "      <td>1.000000</td>\n",
              "      <td>3.000000</td>\n",
              "      <td>0.861667</td>\n",
              "      <td>0.840896</td>\n",
              "      <td>0.972500</td>\n",
              "      <td>0.507463</td>\n",
              "      <td>3410.000000</td>\n",
              "      <td>6946.000000</td>\n",
              "      <td>8714.000000</td>\n",
              "    </tr>\n",
              "    <tr>\n",
              "      <th>std</th>\n",
              "      <td>211.165812</td>\n",
              "      <td>NaN</td>\n",
              "      <td>0.500342</td>\n",
              "      <td>3.451913</td>\n",
              "      <td>0.167155</td>\n",
              "      <td>2.004787</td>\n",
              "      <td>0.465233</td>\n",
              "      <td>0.544894</td>\n",
              "      <td>0.183051</td>\n",
              "      <td>0.162961</td>\n",
              "      <td>0.142429</td>\n",
              "      <td>0.077498</td>\n",
              "      <td>686.622488</td>\n",
              "      <td>1560.256377</td>\n",
              "      <td>1937.211452</td>\n",
              "    </tr>\n",
              "  </tbody>\n",
              "</table>\n",
              "</div>"
            ],
            "text/plain": [
              "          instant               dteday           yr        mnth     holiday  \\\n",
              "count  731.000000                  731   731.000000  731.000000  731.000000   \n",
              "mean   366.000000  2012-01-01 00:00:00  2011.500684    6.519836    0.028728   \n",
              "min      1.000000  2011-01-01 00:00:00  2011.000000    1.000000    0.000000   \n",
              "25%    183.500000  2011-07-02 12:00:00  2011.000000    4.000000    0.000000   \n",
              "50%    366.000000  2012-01-01 00:00:00  2012.000000    7.000000    0.000000   \n",
              "75%    548.500000  2012-07-01 12:00:00  2012.000000   10.000000    0.000000   \n",
              "max    731.000000  2012-12-31 00:00:00  2012.000000   12.000000    1.000000   \n",
              "std    211.165812                  NaN     0.500342    3.451913    0.167155   \n",
              "\n",
              "          weekday  workingday  weathersit        temp       atemp         hum  \\\n",
              "count  731.000000  731.000000  731.000000  731.000000  731.000000  731.000000   \n",
              "mean     2.997264    0.683995    1.395349    0.495385    0.474354    0.627894   \n",
              "min      0.000000    0.000000    1.000000    0.059130    0.079070    0.000000   \n",
              "25%      1.000000    0.000000    1.000000    0.337083    0.337842    0.520000   \n",
              "50%      3.000000    1.000000    1.000000    0.498333    0.486733    0.626667   \n",
              "75%      5.000000    1.000000    2.000000    0.655417    0.608602    0.730209   \n",
              "max      6.000000    1.000000    3.000000    0.861667    0.840896    0.972500   \n",
              "std      2.004787    0.465233    0.544894    0.183051    0.162961    0.142429   \n",
              "\n",
              "        windspeed       casual   registered          cnt  \n",
              "count  731.000000   731.000000   731.000000   731.000000  \n",
              "mean     0.190486   848.176471  3656.172367  4504.348837  \n",
              "min      0.022392     2.000000    20.000000    22.000000  \n",
              "25%      0.134950   315.500000  2497.000000  3152.000000  \n",
              "50%      0.180975   713.000000  3662.000000  4548.000000  \n",
              "75%      0.233214  1096.000000  4776.500000  5956.000000  \n",
              "max      0.507463  3410.000000  6946.000000  8714.000000  \n",
              "std      0.077498   686.622488  1560.256377  1937.211452  "
            ]
          },
          "execution_count": 8,
          "metadata": {},
          "output_type": "execute_result"
        }
      ],
      "source": [
        "day_df['yr'] = day_df['yr'].replace({0: 2011, 1: 2012})\n",
        "\n",
        "day_df.describe()"
      ]
    },
    {
      "cell_type": "markdown",
      "metadata": {
        "id": "oNXdnHxjCPCx"
      },
      "source": [
        "Berdasarkan pengecekan kolom numerik pada `day_df`, tidak terjadi keanehan dan data telah sesuai. Oleh karena itu, proses Data Wrangling selesai dilakukan."
      ]
    },
    {
      "cell_type": "markdown",
      "metadata": {
        "id": "gp-Y6wU38DC1"
      },
      "source": [
        "## Exploratory Data Analysis (EDA)"
      ]
    },
    {
      "cell_type": "markdown",
      "metadata": {
        "id": "MW7WF2kr8DC1"
      },
      "source": [
        "### Explore `day_df`"
      ]
    },
    {
      "cell_type": "markdown",
      "metadata": {
        "id": "5hq4C-IVmLA4"
      },
      "source": [
        "Sebagai permulaan, berikut adalah rangkuman parameter statistik dari `day_df` dengan menggunakan method `describe()`."
      ]
    },
    {
      "cell_type": "code",
      "execution_count": 9,
      "metadata": {
        "colab": {
          "base_uri": "https://localhost:8080/",
          "height": 615
        },
        "id": "j0B8RHAfIGrz",
        "outputId": "3c436b64-f125-457a-8c9f-46ed65eb5494"
      },
      "outputs": [
        {
          "data": {
            "text/html": [
              "<div>\n",
              "<style scoped>\n",
              "    .dataframe tbody tr th:only-of-type {\n",
              "        vertical-align: middle;\n",
              "    }\n",
              "\n",
              "    .dataframe tbody tr th {\n",
              "        vertical-align: top;\n",
              "    }\n",
              "\n",
              "    .dataframe thead th {\n",
              "        text-align: right;\n",
              "    }\n",
              "</style>\n",
              "<table border=\"1\" class=\"dataframe\">\n",
              "  <thead>\n",
              "    <tr style=\"text-align: right;\">\n",
              "      <th></th>\n",
              "      <th>instant</th>\n",
              "      <th>dteday</th>\n",
              "      <th>season</th>\n",
              "      <th>yr</th>\n",
              "      <th>mnth</th>\n",
              "      <th>holiday</th>\n",
              "      <th>weekday</th>\n",
              "      <th>workingday</th>\n",
              "      <th>weathersit</th>\n",
              "      <th>temp</th>\n",
              "      <th>atemp</th>\n",
              "      <th>hum</th>\n",
              "      <th>windspeed</th>\n",
              "      <th>casual</th>\n",
              "      <th>registered</th>\n",
              "      <th>cnt</th>\n",
              "    </tr>\n",
              "  </thead>\n",
              "  <tbody>\n",
              "    <tr>\n",
              "      <th>count</th>\n",
              "      <td>731.000000</td>\n",
              "      <td>731</td>\n",
              "      <td>731</td>\n",
              "      <td>731.000000</td>\n",
              "      <td>731.000000</td>\n",
              "      <td>731.000000</td>\n",
              "      <td>731.000000</td>\n",
              "      <td>731.000000</td>\n",
              "      <td>731.000000</td>\n",
              "      <td>731.000000</td>\n",
              "      <td>731.000000</td>\n",
              "      <td>731.000000</td>\n",
              "      <td>731.000000</td>\n",
              "      <td>731.000000</td>\n",
              "      <td>731.000000</td>\n",
              "      <td>731.000000</td>\n",
              "    </tr>\n",
              "    <tr>\n",
              "      <th>unique</th>\n",
              "      <td>NaN</td>\n",
              "      <td>NaN</td>\n",
              "      <td>4</td>\n",
              "      <td>NaN</td>\n",
              "      <td>NaN</td>\n",
              "      <td>NaN</td>\n",
              "      <td>NaN</td>\n",
              "      <td>NaN</td>\n",
              "      <td>NaN</td>\n",
              "      <td>NaN</td>\n",
              "      <td>NaN</td>\n",
              "      <td>NaN</td>\n",
              "      <td>NaN</td>\n",
              "      <td>NaN</td>\n",
              "      <td>NaN</td>\n",
              "      <td>NaN</td>\n",
              "    </tr>\n",
              "    <tr>\n",
              "      <th>top</th>\n",
              "      <td>NaN</td>\n",
              "      <td>NaN</td>\n",
              "      <td>Fall</td>\n",
              "      <td>NaN</td>\n",
              "      <td>NaN</td>\n",
              "      <td>NaN</td>\n",
              "      <td>NaN</td>\n",
              "      <td>NaN</td>\n",
              "      <td>NaN</td>\n",
              "      <td>NaN</td>\n",
              "      <td>NaN</td>\n",
              "      <td>NaN</td>\n",
              "      <td>NaN</td>\n",
              "      <td>NaN</td>\n",
              "      <td>NaN</td>\n",
              "      <td>NaN</td>\n",
              "    </tr>\n",
              "    <tr>\n",
              "      <th>freq</th>\n",
              "      <td>NaN</td>\n",
              "      <td>NaN</td>\n",
              "      <td>188</td>\n",
              "      <td>NaN</td>\n",
              "      <td>NaN</td>\n",
              "      <td>NaN</td>\n",
              "      <td>NaN</td>\n",
              "      <td>NaN</td>\n",
              "      <td>NaN</td>\n",
              "      <td>NaN</td>\n",
              "      <td>NaN</td>\n",
              "      <td>NaN</td>\n",
              "      <td>NaN</td>\n",
              "      <td>NaN</td>\n",
              "      <td>NaN</td>\n",
              "      <td>NaN</td>\n",
              "    </tr>\n",
              "    <tr>\n",
              "      <th>mean</th>\n",
              "      <td>366.000000</td>\n",
              "      <td>2012-01-01 00:00:00</td>\n",
              "      <td>NaN</td>\n",
              "      <td>2011.500684</td>\n",
              "      <td>6.519836</td>\n",
              "      <td>0.028728</td>\n",
              "      <td>2.997264</td>\n",
              "      <td>0.683995</td>\n",
              "      <td>1.395349</td>\n",
              "      <td>0.495385</td>\n",
              "      <td>0.474354</td>\n",
              "      <td>0.627894</td>\n",
              "      <td>0.190486</td>\n",
              "      <td>848.176471</td>\n",
              "      <td>3656.172367</td>\n",
              "      <td>4504.348837</td>\n",
              "    </tr>\n",
              "    <tr>\n",
              "      <th>min</th>\n",
              "      <td>1.000000</td>\n",
              "      <td>2011-01-01 00:00:00</td>\n",
              "      <td>NaN</td>\n",
              "      <td>2011.000000</td>\n",
              "      <td>1.000000</td>\n",
              "      <td>0.000000</td>\n",
              "      <td>0.000000</td>\n",
              "      <td>0.000000</td>\n",
              "      <td>1.000000</td>\n",
              "      <td>0.059130</td>\n",
              "      <td>0.079070</td>\n",
              "      <td>0.000000</td>\n",
              "      <td>0.022392</td>\n",
              "      <td>2.000000</td>\n",
              "      <td>20.000000</td>\n",
              "      <td>22.000000</td>\n",
              "    </tr>\n",
              "    <tr>\n",
              "      <th>25%</th>\n",
              "      <td>183.500000</td>\n",
              "      <td>2011-07-02 12:00:00</td>\n",
              "      <td>NaN</td>\n",
              "      <td>2011.000000</td>\n",
              "      <td>4.000000</td>\n",
              "      <td>0.000000</td>\n",
              "      <td>1.000000</td>\n",
              "      <td>0.000000</td>\n",
              "      <td>1.000000</td>\n",
              "      <td>0.337083</td>\n",
              "      <td>0.337842</td>\n",
              "      <td>0.520000</td>\n",
              "      <td>0.134950</td>\n",
              "      <td>315.500000</td>\n",
              "      <td>2497.000000</td>\n",
              "      <td>3152.000000</td>\n",
              "    </tr>\n",
              "    <tr>\n",
              "      <th>50%</th>\n",
              "      <td>366.000000</td>\n",
              "      <td>2012-01-01 00:00:00</td>\n",
              "      <td>NaN</td>\n",
              "      <td>2012.000000</td>\n",
              "      <td>7.000000</td>\n",
              "      <td>0.000000</td>\n",
              "      <td>3.000000</td>\n",
              "      <td>1.000000</td>\n",
              "      <td>1.000000</td>\n",
              "      <td>0.498333</td>\n",
              "      <td>0.486733</td>\n",
              "      <td>0.626667</td>\n",
              "      <td>0.180975</td>\n",
              "      <td>713.000000</td>\n",
              "      <td>3662.000000</td>\n",
              "      <td>4548.000000</td>\n",
              "    </tr>\n",
              "    <tr>\n",
              "      <th>75%</th>\n",
              "      <td>548.500000</td>\n",
              "      <td>2012-07-01 12:00:00</td>\n",
              "      <td>NaN</td>\n",
              "      <td>2012.000000</td>\n",
              "      <td>10.000000</td>\n",
              "      <td>0.000000</td>\n",
              "      <td>5.000000</td>\n",
              "      <td>1.000000</td>\n",
              "      <td>2.000000</td>\n",
              "      <td>0.655417</td>\n",
              "      <td>0.608602</td>\n",
              "      <td>0.730209</td>\n",
              "      <td>0.233214</td>\n",
              "      <td>1096.000000</td>\n",
              "      <td>4776.500000</td>\n",
              "      <td>5956.000000</td>\n",
              "    </tr>\n",
              "    <tr>\n",
              "      <th>max</th>\n",
              "      <td>731.000000</td>\n",
              "      <td>2012-12-31 00:00:00</td>\n",
              "      <td>NaN</td>\n",
              "      <td>2012.000000</td>\n",
              "      <td>12.000000</td>\n",
              "      <td>1.000000</td>\n",
              "      <td>6.000000</td>\n",
              "      <td>1.000000</td>\n",
              "      <td>3.000000</td>\n",
              "      <td>0.861667</td>\n",
              "      <td>0.840896</td>\n",
              "      <td>0.972500</td>\n",
              "      <td>0.507463</td>\n",
              "      <td>3410.000000</td>\n",
              "      <td>6946.000000</td>\n",
              "      <td>8714.000000</td>\n",
              "    </tr>\n",
              "    <tr>\n",
              "      <th>std</th>\n",
              "      <td>211.165812</td>\n",
              "      <td>NaN</td>\n",
              "      <td>NaN</td>\n",
              "      <td>0.500342</td>\n",
              "      <td>3.451913</td>\n",
              "      <td>0.167155</td>\n",
              "      <td>2.004787</td>\n",
              "      <td>0.465233</td>\n",
              "      <td>0.544894</td>\n",
              "      <td>0.183051</td>\n",
              "      <td>0.162961</td>\n",
              "      <td>0.142429</td>\n",
              "      <td>0.077498</td>\n",
              "      <td>686.622488</td>\n",
              "      <td>1560.256377</td>\n",
              "      <td>1937.211452</td>\n",
              "    </tr>\n",
              "  </tbody>\n",
              "</table>\n",
              "</div>"
            ],
            "text/plain": [
              "           instant               dteday season           yr        mnth  \\\n",
              "count   731.000000                  731    731   731.000000  731.000000   \n",
              "unique         NaN                  NaN      4          NaN         NaN   \n",
              "top            NaN                  NaN   Fall          NaN         NaN   \n",
              "freq           NaN                  NaN    188          NaN         NaN   \n",
              "mean    366.000000  2012-01-01 00:00:00    NaN  2011.500684    6.519836   \n",
              "min       1.000000  2011-01-01 00:00:00    NaN  2011.000000    1.000000   \n",
              "25%     183.500000  2011-07-02 12:00:00    NaN  2011.000000    4.000000   \n",
              "50%     366.000000  2012-01-01 00:00:00    NaN  2012.000000    7.000000   \n",
              "75%     548.500000  2012-07-01 12:00:00    NaN  2012.000000   10.000000   \n",
              "max     731.000000  2012-12-31 00:00:00    NaN  2012.000000   12.000000   \n",
              "std     211.165812                  NaN    NaN     0.500342    3.451913   \n",
              "\n",
              "           holiday     weekday  workingday  weathersit        temp  \\\n",
              "count   731.000000  731.000000  731.000000  731.000000  731.000000   \n",
              "unique         NaN         NaN         NaN         NaN         NaN   \n",
              "top            NaN         NaN         NaN         NaN         NaN   \n",
              "freq           NaN         NaN         NaN         NaN         NaN   \n",
              "mean      0.028728    2.997264    0.683995    1.395349    0.495385   \n",
              "min       0.000000    0.000000    0.000000    1.000000    0.059130   \n",
              "25%       0.000000    1.000000    0.000000    1.000000    0.337083   \n",
              "50%       0.000000    3.000000    1.000000    1.000000    0.498333   \n",
              "75%       0.000000    5.000000    1.000000    2.000000    0.655417   \n",
              "max       1.000000    6.000000    1.000000    3.000000    0.861667   \n",
              "std       0.167155    2.004787    0.465233    0.544894    0.183051   \n",
              "\n",
              "             atemp         hum   windspeed       casual   registered  \\\n",
              "count   731.000000  731.000000  731.000000   731.000000   731.000000   \n",
              "unique         NaN         NaN         NaN          NaN          NaN   \n",
              "top            NaN         NaN         NaN          NaN          NaN   \n",
              "freq           NaN         NaN         NaN          NaN          NaN   \n",
              "mean      0.474354    0.627894    0.190486   848.176471  3656.172367   \n",
              "min       0.079070    0.000000    0.022392     2.000000    20.000000   \n",
              "25%       0.337842    0.520000    0.134950   315.500000  2497.000000   \n",
              "50%       0.486733    0.626667    0.180975   713.000000  3662.000000   \n",
              "75%       0.608602    0.730209    0.233214  1096.000000  4776.500000   \n",
              "max       0.840896    0.972500    0.507463  3410.000000  6946.000000   \n",
              "std       0.162961    0.142429    0.077498   686.622488  1560.256377   \n",
              "\n",
              "                cnt  \n",
              "count    731.000000  \n",
              "unique          NaN  \n",
              "top             NaN  \n",
              "freq            NaN  \n",
              "mean    4504.348837  \n",
              "min       22.000000  \n",
              "25%     3152.000000  \n",
              "50%     4548.000000  \n",
              "75%     5956.000000  \n",
              "max     8714.000000  \n",
              "std     1937.211452  "
            ]
          },
          "execution_count": 9,
          "metadata": {},
          "output_type": "execute_result"
        }
      ],
      "source": [
        "day_df.describe(include=\"all\")"
      ]
    },
    {
      "cell_type": "markdown",
      "metadata": {
        "id": "re3J36Q4mcu0"
      },
      "source": [
        "Selanjutnya, akan melihat jumlah penyewa sepeda setiap musimnya dalam satu tahun."
      ]
    },
    {
      "cell_type": "markdown",
      "metadata": {
        "id": "aTOd3P1wnwWG"
      },
      "source": [
        "Kode di bawah ini akan menampilkan data penyewa sepeda berdasarkan musimnya pada tahun 2011."
      ]
    },
    {
      "cell_type": "code",
      "execution_count": 10,
      "metadata": {
        "colab": {
          "base_uri": "https://localhost:8080/"
        },
        "id": "dDFXNIKbJU-4",
        "outputId": "905c79d5-bb7b-43e2-9113-23fe083a38c2"
      },
      "outputs": [
        {
          "name": "stdout",
          "output_type": "stream",
          "text": [
            "season\n",
            "Fall      419,650\n",
            "Spring    150,000\n",
            "Summer    347,316\n",
            "Winter    326,137\n",
            "Name: cnt, dtype: object\n"
          ]
        }
      ],
      "source": [
        "total_cnt_2011 = day_df[day_df['yr'] == 2011].groupby(by=['season'])['cnt'].sum()\n",
        "formatted_total_cnt_2011 = total_cnt_2011.map(\"{:,}\".format)\n",
        "\n",
        "print(formatted_total_cnt_2011)"
      ]
    },
    {
      "cell_type": "markdown",
      "metadata": {
        "id": "XMUIY0qhn-OL"
      },
      "source": [
        "Dapat diketahui pada tahun 2011 penyewa sepeda terbanyak terdapat pada musim gugur (fall), disusul oleh musim panas (summer), musim dingin (winter), dan yang terakhir musim semi (spring)."
      ]
    },
    {
      "cell_type": "markdown",
      "metadata": {
        "id": "9ZUyRZgMpY4R"
      },
      "source": [
        "Kemudian, kode di bawah ini akan menampilkan data penyewa sepeda berdasarkan musimnya pada tahun 2012."
      ]
    },
    {
      "cell_type": "code",
      "execution_count": 11,
      "metadata": {
        "colab": {
          "base_uri": "https://localhost:8080/"
        },
        "id": "6KaZkiwsZWUq",
        "outputId": "7ae286ab-0af1-4cab-a48f-7e5b58b36f59"
      },
      "outputs": [
        {
          "name": "stdout",
          "output_type": "stream",
          "text": [
            "season\n",
            "Fall      641,479\n",
            "Spring    321,348\n",
            "Summer    571,273\n",
            "Winter    515,476\n",
            "Name: cnt, dtype: object\n"
          ]
        }
      ],
      "source": [
        "total_cnt_2012 = day_df[day_df['yr'] == 2012].groupby(by=[\"season\"])['cnt'].sum()\n",
        "formatted_total_cnt_2012 = total_cnt_2012.map(\"{:,}\".format)\n",
        "\n",
        "print(formatted_total_cnt_2012)"
      ]
    },
    {
      "cell_type": "markdown",
      "metadata": {
        "id": "CHxE0H3up55v"
      },
      "source": [
        "Dapat diketahui pada tahun 2012 penyewa sepeda terbanyak terdapat pada musim gugur (fall), disusul oleh musim panas (summer), musim dingin (winter), dan yang terakhir musim semi (spring)."
      ]
    },
    {
      "cell_type": "markdown",
      "metadata": {
        "id": "ghFKDZFfqEuY"
      },
      "source": [
        "Selanjutnya, akan melihat distribusi penyewa sepeda yang terdaftar (registered) dan penyewa casual pada tahun 2011."
      ]
    },
    {
      "cell_type": "markdown",
      "metadata": {
        "id": "qKlBr5gwqhk9"
      },
      "source": [
        "Kode dibawah ini akan menampilkan distribusi penyewa sepeda pada tahun 2011."
      ]
    },
    {
      "cell_type": "code",
      "execution_count": 12,
      "metadata": {
        "colab": {
          "base_uri": "https://localhost:8080/"
        },
        "id": "oGje2XksUFeR",
        "outputId": "f1fc3d0e-1b69-4d88-b8e7-349becd9cf2c"
      },
      "outputs": [
        {
          "name": "stdout",
          "output_type": "stream",
          "text": [
            "casual: 247,252\n",
            "registered: 995,851\n",
            "total: 1,243,103\n"
          ]
        }
      ],
      "source": [
        "total_casual_2011 = day_df[(day_df['yr'] == 2011)]['casual'].sum()\n",
        "total_registered_2011 = day_df[(day_df['yr'] == 2011)]['registered'].sum()\n",
        "total_users_2011 = total_casual_2011 + total_registered_2011\n",
        "\n",
        "print(\"casual:\", \"{:,}\".format(total_casual_2011))\n",
        "print(\"registered:\", \"{:,}\".format(total_registered_2011))\n",
        "print(\"total:\", \"{:,}\".format(total_users_2011))"
      ]
    },
    {
      "cell_type": "markdown",
      "metadata": {
        "id": "OWUcy8wrq-Gk"
      },
      "source": [
        "Dapat diketahui bahwa penyewa sepeda yang terdaftar (registered) pada tahun 2011 lebih banyak daripada penyewa casual."
      ]
    },
    {
      "cell_type": "markdown",
      "metadata": {
        "id": "ayGpXtxIrcjh"
      },
      "source": [
        "Selanjutnya, kode di bawah ini akan menampilkan distribusi penyewa sepeda pada tahun 2012."
      ]
    },
    {
      "cell_type": "code",
      "execution_count": 13,
      "metadata": {
        "colab": {
          "base_uri": "https://localhost:8080/"
        },
        "id": "dZhjVJzoeg7m",
        "outputId": "77fc24fc-94f3-469b-b822-6795312397bf"
      },
      "outputs": [
        {
          "name": "stdout",
          "output_type": "stream",
          "text": [
            "casual: 372,765\n",
            "registered: 1,676,811\n",
            "total: 2,049,576\n"
          ]
        }
      ],
      "source": [
        "total_casual_2012 = day_df[(day_df['yr'] == 2012)]['casual'].sum()\n",
        "total_registered_2012 = day_df[(day_df['yr'] == 2012)]['registered'].sum()\n",
        "total_users_2012 = total_casual_2012 + total_registered_2012\n",
        "\n",
        "print(\"casual:\", \"{:,}\".format(total_casual_2012))\n",
        "print(\"registered:\", \"{:,}\".format(total_registered_2012))\n",
        "print(\"total:\", \"{:,}\".format(total_users_2012))"
      ]
    },
    {
      "cell_type": "markdown",
      "metadata": {
        "id": "SYYvzYmprm9A"
      },
      "source": [
        "Sama seperti tahun sebelumnya, jumlah penyewa sepeda yang terdaftar (registered) pada tahun 2012 lebih banyak daripada penyewa casual. Akan tetapi, pada tahun 2012 terjadi peningkatan jumlah penyewa terdaftar, casual, dan jumlah total penyewa sepeda secara keseluruhan."
      ]
    },
    {
      "cell_type": "markdown",
      "metadata": {
        "id": "zsyZjqak8DC2"
      },
      "source": [
        "## Visualization & Explanatory Analysis"
      ]
    },
    {
      "cell_type": "markdown",
      "metadata": {
        "id": "HZxOiQ6n8DC2"
      },
      "source": [
        "### Pertanyaan 1: Bagaimana hubungan antara jumlah penyewa sepeda dengan suatu musim pada tahun 2011 dan 2012?"
      ]
    },
    {
      "cell_type": "markdown",
      "metadata": {
        "id": "wj9JpPdsvSDA"
      },
      "source": [
        "Untuk menjawab pertanyaan di atas, akan menggunakan kode yang sebelumnya telah digunakan pada tahap exploratory data."
      ]
    },
    {
      "cell_type": "markdown",
      "metadata": {
        "id": "eTXOd2pQwt5K"
      },
      "source": [
        "Berikut adalah kode untuk menunjukkan hubungan antara penyewa sepeda dengan suatu musim pada tahun 2011."
      ]
    },
    {
      "cell_type": "code",
      "execution_count": 14,
      "metadata": {
        "colab": {
          "base_uri": "https://localhost:8080/"
        },
        "id": "1swJUdAD8DC2",
        "outputId": "b4c16914-123f-4dad-f869-925753042717"
      },
      "outputs": [
        {
          "name": "stdout",
          "output_type": "stream",
          "text": [
            "season\n",
            "Fall      419,650\n",
            "Spring    150,000\n",
            "Summer    347,316\n",
            "Winter    326,137\n",
            "Name: cnt, dtype: object\n"
          ]
        }
      ],
      "source": [
        "total_cnt_2011 = day_df[day_df['yr'] == 2011].groupby(by=['season'])['cnt'].sum()\n",
        "formatted_total_cnt_2011 = total_cnt_2011.map(\"{:,}\".format)\n",
        "\n",
        "print(formatted_total_cnt_2011)"
      ]
    },
    {
      "cell_type": "markdown",
      "metadata": {
        "id": "nG4ppwjExD3q"
      },
      "source": [
        "Dapat diketahui bahwa penyewa sepeda pada tahun 2011 paling banyak terdapat pada musim gugur (fall) dengan 419,650 penyewa dan paling sedikit terdapat pada musim gugur (spring) dengan 150,000 penyewa."
      ]
    },
    {
      "cell_type": "markdown",
      "metadata": {
        "id": "5dI5WYguxoYP"
      },
      "source": [
        "Untuk memudahkan pemahaman terkait dengan hubungan antara jumlah penyewa sepeda dengan musimnya, maka berikut adalah bar chart untuk memvisualisasikan data di atas."
      ]
    },
    {
      "cell_type": "code",
      "execution_count": 15,
      "metadata": {
        "colab": {
          "base_uri": "https://localhost:8080/",
          "height": 487
        },
        "id": "N-CtidJM2BQF",
        "outputId": "89de826e-d255-4865-c76d-271ee0fe1c36"
      },
      "outputs": [
        {
          "name": "stderr",
          "output_type": "stream",
          "text": [
            "c:\\Users\\PC\\anaconda3\\Lib\\site-packages\\seaborn\\_oldcore.py:1498: FutureWarning: is_categorical_dtype is deprecated and will be removed in a future version. Use isinstance(dtype, CategoricalDtype) instead\n",
            "  if pd.api.types.is_categorical_dtype(vector):\n",
            "c:\\Users\\PC\\anaconda3\\Lib\\site-packages\\seaborn\\_oldcore.py:1498: FutureWarning: is_categorical_dtype is deprecated and will be removed in a future version. Use isinstance(dtype, CategoricalDtype) instead\n",
            "  if pd.api.types.is_categorical_dtype(vector):\n",
            "c:\\Users\\PC\\anaconda3\\Lib\\site-packages\\seaborn\\_oldcore.py:1498: FutureWarning: is_categorical_dtype is deprecated and will be removed in a future version. Use isinstance(dtype, CategoricalDtype) instead\n",
            "  if pd.api.types.is_categorical_dtype(vector):\n"
          ]
        },
        {
          "data": {
            "image/png": "[encoded data removed]",
            "text/plain": [
              "<Figure size 1000x500 with 1 Axes>"
            ]
          },
          "metadata": {},
          "output_type": "display_data"
        }
      ],
      "source": [
        "total_cnt_2011 = day_df[day_df['yr'] == 2011].groupby(by=['season'])['cnt'].sum()\n",
        "\n",
        "plt.figure(figsize=(10, 5))\n",
        "sns.barplot(\n",
        "    x=total_cnt_2011.index,\n",
        "    y=total_cnt_2011.values,\n",
        "    color= '#00BFFF'\n",
        "    )\n",
        "plt.title('Jumlah Penyewa Sepeda Berdasarkan Musim Tahun 2011')\n",
        "plt.xlabel('Musim')\n",
        "plt.ylabel('Jumlah Total Penyewa')\n",
        "plt.show()"
      ]
    },
    {
      "cell_type": "markdown",
      "metadata": {
        "id": "H2wAhZavD-Cs"
      },
      "source": [
        "Bar Chart tersebut menunjukkan hubungan antara jumlah penyewa sepeda pada tahun 2011, yaitu: jumlah penyewa sepeda terbanyak adalah musim gugur (fall), di urutan kedua jumlah penyewa sepeda terbanyak adalah musim panas (summer), urutan ketiga musim dingin (winter), dan urutan terakhir adalah musim semi (spring)."
      ]
    },
    {
      "cell_type": "markdown",
      "metadata": {
        "id": "_IJhJwBxF362"
      },
      "source": [
        "Selanjutnya adalah kode untuk menunjukkan hubungan antara penyewa sepeda dengan suatu musim pada tahun 2012."
      ]
    },
    {
      "cell_type": "code",
      "execution_count": 16,
      "metadata": {
        "colab": {
          "base_uri": "https://localhost:8080/"
        },
        "id": "jyePrgMwGJQx",
        "outputId": "e7b45b50-f335-44ed-9385-fd2b788b7386"
      },
      "outputs": [
        {
          "name": "stdout",
          "output_type": "stream",
          "text": [
            "season\n",
            "Fall      641,479\n",
            "Spring    321,348\n",
            "Summer    571,273\n",
            "Winter    515,476\n",
            "Name: cnt, dtype: object\n"
          ]
        }
      ],
      "source": [
        "total_cnt_2012 = day_df[day_df['yr'] == 2012].groupby(by=[\"season\"])['cnt'].sum()\n",
        "formatted_total_cnt_2012 = total_cnt_2012.map(\"{:,}\".format)\n",
        "\n",
        "print(formatted_total_cnt_2012)"
      ]
    },
    {
      "cell_type": "markdown",
      "metadata": {
        "id": "XZMmybiyHqlH"
      },
      "source": [
        "Dapat diketahui bahwa penyewa sepeda pada tahun 2012 paling banyak di musim gugur (fall) dengan 641,479 penyewa dan paling sedikit di musim gugur (spring) dengan 321,348 penyewa."
      ]
    },
    {
      "cell_type": "markdown",
      "metadata": {
        "id": "N0Bj0rtsHysq"
      },
      "source": [
        "Untuk memudahkan pemahaman terkait dengan hubungan antara jumlah penyewa sepeda dengan musimnya, maka berikut adalah bar chart untuk memvisualisasikan data di atas."
      ]
    },
    {
      "cell_type": "code",
      "execution_count": 17,
      "metadata": {
        "colab": {
          "base_uri": "https://localhost:8080/",
          "height": 487
        },
        "id": "SfJRDiTZH4vC",
        "outputId": "61011466-8632-483e-e673-e7988411dd3e"
      },
      "outputs": [
        {
          "name": "stderr",
          "output_type": "stream",
          "text": [
            "c:\\Users\\PC\\anaconda3\\Lib\\site-packages\\seaborn\\_oldcore.py:1498: FutureWarning: is_categorical_dtype is deprecated and will be removed in a future version. Use isinstance(dtype, CategoricalDtype) instead\n",
            "  if pd.api.types.is_categorical_dtype(vector):\n",
            "c:\\Users\\PC\\anaconda3\\Lib\\site-packages\\seaborn\\_oldcore.py:1498: FutureWarning: is_categorical_dtype is deprecated and will be removed in a future version. Use isinstance(dtype, CategoricalDtype) instead\n",
            "  if pd.api.types.is_categorical_dtype(vector):\n",
            "c:\\Users\\PC\\anaconda3\\Lib\\site-packages\\seaborn\\_oldcore.py:1498: FutureWarning: is_categorical_dtype is deprecated and will be removed in a future version. Use isinstance(dtype, CategoricalDtype) instead\n",
            "  if pd.api.types.is_categorical_dtype(vector):\n"
          ]
        },
        {
          "data": {
            "image/png": "[encoded data removed]",
            "text/plain": [
              "<Figure size 1000x500 with 1 Axes>"
            ]
          },
          "metadata": {},
          "output_type": "display_data"
        }
      ],
      "source": [
        "total_cnt_2012 = day_df[day_df['yr'] == 2012].groupby(by=['season'])['cnt'].sum()\n",
        "\n",
        "plt.figure(figsize=(10, 5))\n",
        "sns.barplot(\n",
        "    x=total_cnt_2012.index,\n",
        "    y=total_cnt_2012.values,\n",
        "    color= '#00BFFF'\n",
        "    )\n",
        "plt.title('Jumlah Penyewa Sepeda Berdasarkan Musim Tahun 2012')\n",
        "plt.xlabel('Musim')\n",
        "plt.ylabel('Jumlah Total Penyewa')\n",
        "plt.show()"
      ]
    },
    {
      "cell_type": "markdown",
      "metadata": {
        "id": "TBTL_o6_IJdA"
      },
      "source": [
        "Bar Chart tersebut menunjukkan hubungan antara jumlah penyewa sepeda pada tahun 2012, yaitu: jumlah penyewa sepeda terbanyak adalah musim gugur (fall), di urutan kedua jumlah penyewa sepeda terbanyak adalah musim panas (summer), urutan ketiga musim dingin (winter), dan urutan terakhir adalah musim semi (spring)."
      ]
    },
    {
      "cell_type": "markdown",
      "metadata": {
        "id": "DgHI7CiU8DC2"
      },
      "source": [
        "### Pertanyaan 2: Bagaimana distribusi antara penyewa sepeda terdaftar (registered) dan penyewa casual dalam penyewaan sepeda pada tahun 2011 dan 2012?"
      ]
    },
    {
      "cell_type": "markdown",
      "metadata": {
        "id": "9wmr3BMDLUxu"
      },
      "source": [
        "Untuk menjawab pertanyaan di atas, akan menggunakan kode yang sebelumnya telah digunakan pada tahap exploratory data."
      ]
    },
    {
      "cell_type": "markdown",
      "metadata": {
        "id": "KAEw1zVNNrPO"
      },
      "source": [
        "Berikut adalah kode untuk mengetahui jumlah distribusi penyewa sepeda terdaftar (registered) dan penyewa casual, serta jumlah total penyewa sepeda pada tahun 2011."
      ]
    },
    {
      "cell_type": "code",
      "execution_count": 18,
      "metadata": {
        "colab": {
          "base_uri": "https://localhost:8080/"
        },
        "id": "MDNhiXQ0Nps_",
        "outputId": "99db123c-e139-46c5-a30d-5663ddd79204"
      },
      "outputs": [
        {
          "name": "stdout",
          "output_type": "stream",
          "text": [
            "casual: 247,252\n",
            "registered: 995,851\n",
            "total: 1,243,103\n"
          ]
        }
      ],
      "source": [
        "total_casual_2011 = day_df[(day_df['yr'] == 2011)]['casual'].sum()\n",
        "total_registered_2011 = day_df[(day_df['yr'] == 2011)]['registered'].sum()\n",
        "total_users_2011 = total_casual_2011 + total_registered_2011\n",
        "\n",
        "print(\"casual:\", \"{:,}\".format(total_casual_2011))\n",
        "print(\"registered:\", \"{:,}\".format(total_registered_2011))\n",
        "print(\"total:\", \"{:,}\".format(total_users_2011))"
      ]
    },
    {
      "cell_type": "markdown",
      "metadata": {
        "id": "8s9kNPO3N7uo"
      },
      "source": [
        "Dari kode tersebut dapat diketahui bahwa total penyewa sepeda pada tahun 2011 adalah sebanyak 1,243,103 penyewa yang terbagi menjadi 247,252 penyewa casual dan 995,851 penyewa terdaftar (registered)."
      ]
    },
    {
      "cell_type": "markdown",
      "metadata": {
        "id": "d0mVr11qON7h"
      },
      "source": [
        "Berikut adalah Pie Chart untuk memudahkan visualisasi data penyewa sepeda pada tahun 2011.\n",
        "\n"
      ]
    },
    {
      "cell_type": "code",
      "execution_count": 19,
      "metadata": {
        "colab": {
          "base_uri": "https://localhost:8080/",
          "height": 444
        },
        "id": "Yv8d5DBJOeG8",
        "outputId": "bce1c260-3634-4410-85c8-8c784d4cd2c9"
      },
      "outputs": [
        {
          "data": {
            "image/png": "[encoded data removed]",
            "text/plain": [
              "<Figure size 1000x500 with 1 Axes>"
            ]
          },
          "metadata": {},
          "output_type": "display_data"
        }
      ],
      "source": [
        "users_2011 = [total_casual_2011, total_registered_2011]\n",
        "labels = ['Casual', 'Registered']\n",
        "colors = ['#87CEFA', '#00BFFF']\n",
        "explode = (0.1, 0)\n",
        "\n",
        "fig, ax = plt.subplots(figsize=(10, 5))\n",
        "ax.pie(\n",
        "  x=[total_casual_2011, total_registered_2011],\n",
        "  labels=labels,\n",
        "  autopct='%1.1f%%',\n",
        "  colors=colors,\n",
        "  explode=explode\n",
        ")\n",
        "plt.title('Distribusi Penyewa Sepeda pada Tahun 2011', loc='center')\n",
        "plt.show()"
      ]
    },
    {
      "cell_type": "markdown",
      "metadata": {
        "id": "CPan-5a_RmS6"
      },
      "source": [
        "Berdasarkan Pie Chart di atas dapat diketahui bahwa pada tahun 2011 jumlah penyewa sepeda terbagi menjadi 80.1% penyewa terdaftar (registered) dan 19.9% penyewa casual."
      ]
    },
    {
      "cell_type": "markdown",
      "metadata": {
        "id": "ejPYIXKnTe_U"
      },
      "source": [
        "Selanjutnya adalah kode untuk mengetahui jumlah distribusi penyewa sepeda terdaftar (registered) dan penyewa casual, serta jumlah total penyewa sepeda pada tahun 2012."
      ]
    },
    {
      "cell_type": "code",
      "execution_count": 20,
      "metadata": {
        "colab": {
          "base_uri": "https://localhost:8080/"
        },
        "id": "BoM7rZCETxsq",
        "outputId": "b59690ac-975e-4f09-9f3b-45442595c339"
      },
      "outputs": [
        {
          "name": "stdout",
          "output_type": "stream",
          "text": [
            "casual: 372,765\n",
            "registered: 1,676,811\n",
            "total: 2,049,576\n"
          ]
        }
      ],
      "source": [
        "total_casual_2012 = day_df[(day_df['yr'] == 2012)]['casual'].sum()\n",
        "total_registered_2012 = day_df[(day_df['yr'] == 2012)]['registered'].sum()\n",
        "total_users_2012 = total_casual_2012 + total_registered_2012\n",
        "\n",
        "print(\"casual:\", \"{:,}\".format(total_casual_2012))\n",
        "print(\"registered:\", \"{:,}\".format(total_registered_2012))\n",
        "print(\"total:\", \"{:,}\".format(total_users_2012))"
      ]
    },
    {
      "cell_type": "markdown",
      "metadata": {
        "id": "Xy-OSbC6VCYn"
      },
      "source": [
        "Dari kode tersebut dapat diketahui bahwa total penyewa sepeda pada tahun 2012 adalah sebanyak 2,049,576. Pada tahun 2012, penyewa sepeda terbagi menjadi 372,765 penyewa casual dan 1,676,811 penyewa terdaftar (registered)."
      ]
    },
    {
      "cell_type": "markdown",
      "metadata": {
        "id": "Sapr71C5V6Ph"
      },
      "source": [
        "Berikut adalah Pie Chart untuk memudahkan visualisasi distribusi penyewa sepeda pada tahun 2012."
      ]
    },
    {
      "cell_type": "code",
      "execution_count": 21,
      "metadata": {
        "colab": {
          "base_uri": "https://localhost:8080/",
          "height": 444
        },
        "id": "0RJq-ki4WDqm",
        "outputId": "c491915d-8cc0-431c-ed9c-0be49542d659"
      },
      "outputs": [
        {
          "data": {
            "image/png": "[encoded data removed]",
            "text/plain": [
              "<Figure size 1000x500 with 1 Axes>"
            ]
          },
          "metadata": {},
          "output_type": "display_data"
        }
      ],
      "source": [
        "users_2012 = [total_casual_2012, total_registered_2012]\n",
        "labels = ['Casual', 'Registered']\n",
        "colors = ['#87CEFA', '#00BFFF']\n",
        "explode = (0.1, 0)\n",
        "\n",
        "fig, ax = plt.subplots(figsize=(10, 5))\n",
        "ax.pie(\n",
        "  x=[total_casual_2012, total_registered_2012],\n",
        "  labels=labels,\n",
        "  autopct='%1.1f%%',\n",
        "  colors=colors,\n",
        "  explode=explode\n",
        ")\n",
        "plt.title('Distribusi Penyewa Sepeda pada Tahun 2012', loc='center')\n",
        "plt.show()"
      ]
    },
    {
      "cell_type": "markdown",
      "metadata": {
        "id": "nYvHxBDUXgnY"
      },
      "source": [
        "Berdasarkan Pie Chart di atas dapat diketahui bahwa pada tahun 2012 jumlah penyewa sepeda terbagi menjadi 81.8% penyewa terdaftar (registered) dan 18.2% penyewa casual."
      ]
    },
    {
      "cell_type": "code",
      "execution_count": 22,
      "metadata": {
        "id": "9Y5EgDzBM5gx"
      },
      "outputs": [],
      "source": [
        "day_df.to_csv(\"main_data.csv\", index=False)"
      ]
    },
    {
      "cell_type": "markdown",
      "metadata": {
        "id": "dF8ZaClLM6aw"
      },
      "source": [
        "Kode di atas adalah kode untuk menyimpan data yang telah dibersihkan ke `main_data.csv `untuk selanjutnya digunakan pada tahap pembuatan Dashboard."
      ]
    },
    {
      "cell_type": "markdown",
      "metadata": {
        "id": "_WeHlCeX8DC2"
      },
      "source": [
        "## Conclusion"
      ]
    },
    {
      "cell_type": "markdown",
      "metadata": {
        "id": "ZTcyR48Y8DC2"
      },
      "source": [
        "- Conclusion pertanyaan 1: Bagaimana hubungan antara jumlah penyewa sepeda dengan suatu musim pada tahun 2011 dan 2012?\n",
        "\n",
        "\n",
        "1.   Pada tahun 2011, musim dengan jumlah penyewa sepeda terbanyak adalah musim gugur (fall) dengan 419,650 penyewa. Musim dengan penyewa sepeda terbanyak kedua adalah musim panas (summer) dengan 347,316 penyewa. Musim dengan penyewa sepeda terbanyak ketiga adalah musim dingin (winter) dengan 326,137 penyewa. Musim dengan penyewa sepeda tersedikit pada tahun 2011 adalah musim semi (spring) dengan 150,000 penyewa.\n",
        "2.   Pada tahun 2012, musim dengan jumlah penyewa sepeda terbanyak adalah musim gugur (fall) dengan 641,479 penyewa. Musim dengan penyewa sepeda terbanyak kedua adalah musim panas (summer) dengan 571,273 penyewa. Musim dengan penyewa sepeda terbanyak ketiga adalah musim dingin (winter) dengan 515,476 penyewa. Musim dengan penyewa sepeda tersedikit pada tahun 2012 adalah musim semi (spring) dengan 321,348 penyewa.\n",
        "\n",
        "\n",
        "> Dapat disimpulkan bahwa baik di tahun 2011 maupun di tahun 2012, musim dengan penyewa sepeda terbanyak adalah musim gugur (fall) dan musim dengan penyewa sepeda tersedikit adalah musim semi (spring). Pada tahun 2012 terjadi peningkatan jumlah penyewa sepeda di tiap musimnya dibandingkan dengan tahun 2011.\n",
        "\n",
        "- Conclusion pertanyaan 2: Bagaimana distribusi antara penyewa sepeda terdaftar (registered) dan penyewa casual dalam penyewaan sepeda pada tahun 2011 dan 2012?\n",
        "\n",
        "1.   Pada tahun 2011, diketahui terdapat sebanyak 995,851 penyewa sepeda terdaftar (registered) atau 80.1% dari total penyewa sepeda. Di sisi lain, terdapat 247,252 penyewa sepeda casual atau 19.9% dari total penyewa sepeda.\n",
        "2.   Pada tahun 2012, diketahui terdapat sebanyak 1,676,811 penyewa sepeda terdaftar (registered) atau 81,8% dari total penyewa sepeda. Di sisi lain, terdapat 372,765 penyewa sepeda casual atau 18.2% dari total penyewa sepeda.\n",
        "\n",
        "\n",
        "> Dapat disimpulkan bahwa baik di tahun 2011 maupun di tahun 2012, penyewa sepeda didominasi oleh penyewa sepeda terdaftar (registered) yang mencapai 80% dari total seluruh penyewa sepeda dalam satu tahun.\n",
        "\n",
        "\n",
        "\n"
      ]
    }
  ],
  "metadata": {
    "colab": {
      "provenance": []
    },
    "kernelspec": {
      "display_name": "Python 3",
      "language": "python",
      "name": "python3"
    },
    "language_info": {
      "codemirror_mode": {
        "name": "ipython",
        "version": 3
      },
      "file_extension": ".py",
      "mimetype": "text/x-python",
      "name": "python",
      "nbconvert_exporter": "python",
      "pygments_lexer": "ipython3",
      "version": "3.11.4"
    },
    "orig_nbformat": 4,
    "vscode": {
      "interpreter": {
        "hash": "972b3bf27e332e87b5379f2791f6ef9dfc79c71018c370b0d7423235e20fe4d7"
      }
    }
  },
  "nbformat": 4,
  "nbformat_minor": 0
}
